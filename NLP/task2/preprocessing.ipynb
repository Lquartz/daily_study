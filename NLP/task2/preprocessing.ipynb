{
 "cells": [
  {
   "cell_type": "code",
   "execution_count": 1,
   "metadata": {},
   "outputs": [],
   "source": [
    "import os\n",
    "import numpy as np\n",
    "import jieba\n",
    "import matplotlib\n",
    "%matplotlib inline\n",
    "import matplotlib.pyplot as plt"
   ]
  },
  {
   "cell_type": "code",
   "execution_count": 2,
   "metadata": {},
   "outputs": [
    {
     "name": "stdout",
     "output_type": "stream",
     "text": [
      "5000\n",
      "['体育', '黄蜂vs湖人首发：科比带伤战保罗 加索尔救赎之战 新浪体育讯北京时间4月27日，NBA季后赛首轮洛杉矶湖人主场迎战新奥尔良黄蜂，此前的比赛中，双方战成2-2平，因此本场比赛对于两支球队来说都非常重要，赛前双方也公布了首发阵容：湖人队：费舍尔、科比、阿泰斯特、加索尔、拜纳姆黄蜂队：保罗、贝里内利、阿里扎、兰德里、奥卡福[新浪NBA官方微博][新浪NBA湖人新闻动态微博][新浪NBA专题][黄蜂vs湖人图文直播室](新浪体育)']\n"
     ]
    }
   ],
   "source": [
    "ch_data_file = '../task1/cnews/cnews.val.txt'\n",
    "with open(ch_data_file, 'r', encoding='utf-8') as f:\n",
    "    ch_samples = [x.strip().split('\\t') for x in f.readlines()]\n",
    "    \n",
    "print(len(ch_samples))\n",
    "print(ch_samples[0])"
   ]
  },
  {
   "cell_type": "code",
   "execution_count": 3,
   "metadata": {},
   "outputs": [
    {
     "name": "stdout",
     "output_type": "stream",
     "text": [
      "5000\n",
      "['体育', '黄蜂vs湖人首发科比带伤战保罗 加索尔救赎之战 新浪体育讯北京时间4月27日NBA季后赛首轮洛杉矶湖人主场迎战新奥尔良黄蜂此前的比赛中双方战成2-2平因此本场比赛对于两支球队来说都非常重要赛前双方也公布了首发阵容湖人队费舍尔科比阿泰斯特加索尔拜纳姆黄蜂队保罗贝里内利阿里扎兰德里奥卡福[新浪NBA官方微博][新浪NBA湖人新闻动态微博][新浪NBA专题][黄蜂vs湖人图文直播室]新浪体育']\n",
      "['体育', '17秒神之一击救马刺王朝于危难 这个新秀有点牛新浪体育讯在刚刚结束的比赛中回到主场的马刺通过加时以110-103惊险地战胜了灰熊避免了让主场观众见证黑八的尴尬在常规时间的最后关头加里-尼尔命中一记大号三分这个进球也帮助马刺把比赛带进了加时并最终翻盘成功波波维奇教练安排得很详细他告诉我有机会就要出手邓肯的掩护做得很好他帮我完全挡住了对方的防守球员我投篮的视野非常好于是我就出手了即使命中了这记价值连城的球尼尔依然保持着低调在被问及这是不是他职业生涯最重要的投篮时他说没错到目前为止是的赛季前从没有人听说过的尼尔如今成为了西部第一马刺不可缺少的拼图并且在季后赛赢球或者回家钓鱼的关键比赛中命中帮助球队续命的关键球在这成功的背后隐藏着一段鲜为人知的艰难历程大一时他效力于拉塞尔大学拿下A-10赛区的最佳新人然而一宗强奸指控使得他被球队开除只好转去了名不见经传的图森大学虽然在这里他打出了很漂亮的数据和表现但无奈于身高不足学校不够好而在选秀中落选落选后没有任何一个NBA球队和他签下短合同或者是邀请他参加训练营他并没有选择在小联盟混迹而是去做了薪水微薄的高中教师一段时间后土耳其的一个名不见经传的小俱乐部邀请他去打球怀着终于可以有球可打的激动心情他踏上了欧洲之旅正是在这个小球队他打出了名气一举成为土耳其联赛中最耀眼的明星一年以后他被西班牙豪门巴塞罗那看中和曾在NBA混迹的纳瓦罗阿根廷国家队主控桑切斯并肩作战随后这名来自异国的流浪汉又辗转了意大利贝纳通和西班牙马拉加两只在欧洲颇具实力的队伍经历了三年在大洋彼岸的磨练后马刺的一纸三年合约终于让他实现了最初的梦想在马刺的尼尔时常会让人想起同是旅欧归来的鲍文虽然在欧洲时是顶尖的得分好手但在波波维奇麾下兢兢业业地防守投中空位三分做一名完美的角色球员在很多人眼中的尼尔似乎只是一个普通射手但他的能力远不止如此今天比赛的准绝杀证明他有一颗超人不能及的大心脏francischen']\n"
     ]
    }
   ],
   "source": [
    "import re\n",
    "\n",
    "def filter_nontext(samples):\n",
    "    # 过滤不了\\\\ \\ 中文（）还有\n",
    "    r1 = u'[a-zA-Z0-9’!\"#$%&\\'()*+,-./:;<=>?@，。?★、…【】《》？“”‘’！[\\\\]^_`{|}~]+'\n",
    "    #用户也可以在此进行自定义过滤字符 # 者中规则也过滤不完全\n",
    "    r2 = \"[\\s+\\.\\!\\/_,$%^*(+\\\"\\']+|[+——！，。？、~@#￥%……&*（）]+\"\n",
    "    # \\\\\\可以过滤掉反向单杠和双杠，/可以过滤掉正向单杠和双杠，第一个中括号里放的是英文符号，第二个中括号里放的是中文符号，第二个中括号前不能少|，否则过滤不完全\n",
    "    r3 =  \"[.!//_,$&%^*()<>+\\\"'?@#-|:~{}]+|[——！\\\\\\\\，。=？、：“”‘’《》【】￥……（）]+\" \n",
    "    # 去掉括号和括号内的所有内容\n",
    "    r4 =  \"\\\\【.*?】+|\\\\《.*?》+|\\\\#.*?#+|[.!/_,$&%^*()<>+\"\"'?@|:~{}#]+|[——！\\\\\\，。=？、：“”‘’￥……（）《》【】]\"\n",
    "\n",
    "    clear_samples = []\n",
    "    for sample in samples:\n",
    "        sentence = sample[1]\n",
    "        cleanr = re.compile('<.*?>')\n",
    "        sentence = re.sub(cleanr, ' ', sentence) #去除html标签\n",
    "        sentence = re.sub(r4,'',sentence)\n",
    "        clear_samples.append([sample[0], sentence])\n",
    "    return clear_samples\n",
    "\n",
    "clear_samples = filter_nontext(ch_samples)\n",
    "print(len(clear_samples))\n",
    "print(clear_samples[0])\n",
    "print(clear_samples[1])"
   ]
  },
  {
   "cell_type": "code",
   "execution_count": null,
   "metadata": {},
   "outputs": [
    {
     "name": "stderr",
     "output_type": "stream",
     "text": [
      "Building prefix dict from the default dictionary ...\n",
      "Loading model from cache C:\\Users\\Think\\AppData\\Local\\Temp\\jieba.cache\n"
     ]
    }
   ],
   "source": [
    "import jieba \n",
    "\n",
    "def cut_samples(samples):\n",
    "    new_samples = []\n",
    "    for sample in samples:\n",
    "        sentence = sample[1]\n",
    "        sentence_seg = jieba.cut(sentence)\n",
    "        new_samples.append([sample[1], list(sentence_seg)])\n",
    "    return new_samples\n",
    "\n",
    "seg_samples = cut_samples(clear_samples)\n",
    "print(len(seg_samples))\n",
    "print(seg_samples[0])\n",
    "print(seg_samples[1])"
   ]
  },
  {
   "cell_type": "code",
   "execution_count": null,
   "metadata": {},
   "outputs": [],
   "source": [
    "from nltk.corpus import stopwords \n",
    "#stop = set(stopwords.words('english')) \n",
    "with open('ch_stopwords.txt', 'r', encoding='utf-8') as f:\n",
    "    stop = [x.strip() for x in f.readlines()]\n",
    "    stop = set(stop)\n",
    "print(stop)\n",
    "\n",
    "def filter_stopwords(samples):\n",
    "    new_samples = []\n",
    "    for sample in samples:\n",
    "        sentence = sample[1]\n",
    "        filter_sentence= [w for w in sentence if w not in stop]\n",
    "        new_samples.append((sample[1], filter_sentence))\n",
    "    return new_samples\n",
    "\n",
    "nostop_samples = filter_stopwords(seg_samples)\n",
    "print(len(nostop_samples))\n",
    "print(nostop_samples[0])\n",
    "print(nostop_samples[1])"
   ]
  },
  {
   "cell_type": "code",
   "execution_count": null,
   "metadata": {
    "scrolled": false
   },
   "outputs": [],
   "source": [
    "from collections import Counter\n",
    "\n",
    "def count(samples):\n",
    "    cnt = Counter()\n",
    "    for sample in samples:\n",
    "        cnt += Counter(sample[1])\n",
    "    return cnt\n",
    "\n",
    "cnt = count(nostop_samples)\n",
    "print(cnt.most_common(100))"
   ]
  }
 ],
 "metadata": {
  "kernelspec": {
   "display_name": "Python 3",
   "language": "python",
   "name": "python3"
  },
  "language_info": {
   "codemirror_mode": {
    "name": "ipython",
    "version": 3
   },
   "file_extension": ".py",
   "mimetype": "text/x-python",
   "name": "python",
   "nbconvert_exporter": "python",
   "pygments_lexer": "ipython3",
   "version": "3.6.8"
  }
 },
 "nbformat": 4,
 "nbformat_minor": 2
}
