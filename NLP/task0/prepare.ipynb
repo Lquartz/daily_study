{
 "cells": [
  {
   "cell_type": "markdown",
   "metadata": {},
   "source": [
    "# TensorFlow基础使用\n",
    "\n",
    "* 加载TensorFlow"
   ]
  },
  {
   "cell_type": "code",
   "execution_count": 1,
   "metadata": {},
   "outputs": [
    {
     "name": "stdout",
     "output_type": "stream",
     "text": [
      "1.10.0\n"
     ]
    }
   ],
   "source": [
    "import tensorflow as tf\n",
    "print(tf.__version__)\n",
    "tf.enable_eager_execution()"
   ]
  },
  {
   "cell_type": "markdown",
   "metadata": {},
   "source": [
    "1. 创建Tensor: Tensor又称张量，简单可以理解为多维矩阵(数组),TensorFlow中图计算数据流动的基本单元就是Tensor.\n",
    "\n",
    "使用`tf.constant()`可以快速定义Tensor,这里定义两个二维矩阵`a`和`b`,使用`tf.matmul()`进行矩阵乘法操作,分别计算`ab`和`ba`的结果.可以发现打印出来的四个结果都是`Tensor`类型, 在TensorFlow中Tensor是不能修改的, 这一点和Variable不同."
   ]
  },
  {
   "cell_type": "code",
   "execution_count": 2,
   "metadata": {},
   "outputs": [
    {
     "name": "stdout",
     "output_type": "stream",
     "text": [
      "tf.Tensor([[1. 2. 3.]], shape=(1, 3), dtype=float32)\n",
      "tf.Tensor(\n",
      "[[1.]\n",
      " [2.]\n",
      " [3.]], shape=(3, 1), dtype=float32)\n",
      "tf.Tensor([[14.]], shape=(1, 1), dtype=float32)\n",
      "tf.Tensor(\n",
      "[[1. 2. 3.]\n",
      " [2. 4. 6.]\n",
      " [3. 6. 9.]], shape=(3, 3), dtype=float32)\n"
     ]
    }
   ],
   "source": [
    "a = tf.constant([[1.0, 2.0, 3.0]])\n",
    "b = tf.constant([[1.0], [2.0], [3.0]])\n",
    "c = tf.matmul(a, b)\n",
    "d = tf.matmul(b, a)\n",
    "print(a)\n",
    "print(b)\n",
    "print(c)\n",
    "print(d)"
   ]
  },
  {
   "cell_type": "markdown",
   "metadata": {},
   "source": [
    "2. 创建Variable:Variable是TensorFlow保存模型状态和参数的基本单元,可以简单地理解为TensorFlow中所有可训练的参数都使用Variable保存.\n",
    "\n",
    "使用`tf.get_variable()`创建Variable, 类似于Tensor示例进行两个矩阵乘法操作的展示, \n",
    "输出结果为Tensor类型, 其他和Tensor操作十分类似. Tensor和Variable可以混合使用."
   ]
  },
  {
   "cell_type": "code",
   "execution_count": 3,
   "metadata": {},
   "outputs": [
    {
     "name": "stdout",
     "output_type": "stream",
     "text": [
      "<tf.Variable 'var_a:0' shape=(1, 3) dtype=float32, numpy=array([[1., 2., 3.]], dtype=float32)>\n",
      "<tf.Variable 'var_a:0' shape=(3, 1) dtype=float32, numpy=\n",
      "array([[1.],\n",
      "       [2.],\n",
      "       [3.]], dtype=float32)>\n",
      "tf.Tensor([[14.]], shape=(1, 1), dtype=float32)\n",
      "tf.Tensor(\n",
      "[[1. 2. 3.]\n",
      " [2. 4. 6.]\n",
      " [3. 6. 9.]], shape=(3, 3), dtype=float32)\n",
      "tf.Tensor([[14.]], shape=(1, 1), dtype=float32)\n",
      "tf.Tensor(\n",
      "[[1. 2. 3.]\n",
      " [2. 4. 6.]\n",
      " [3. 6. 9.]], shape=(3, 3), dtype=float32)\n"
     ]
    }
   ],
   "source": [
    "va = tf.get_variable('var_a', [1, 3], dtype=tf.float32,\n",
    "                    initializer=tf.constant_initializer([[1.0, 2.0, 3.0]]))\n",
    "vb = tf.get_variable('var_a', [3, 1], dtype=tf.float32,\n",
    "                    initializer=tf.constant_initializer([[1.0], [2.0], [3.0]]))\n",
    "vc = tf.matmul(va, vb)\n",
    "vd = tf.matmul(vb, va)\n",
    "print(va)\n",
    "print(vb)\n",
    "print(vc)\n",
    "print(vd)\n",
    "\n",
    "print(tf.matmul(a, vb))\n",
    "print(tf.matmul(b, va))"
   ]
  },
  {
   "cell_type": "markdown",
   "metadata": {},
   "source": [
    "3. 利用Tensor和Variable进行计算:使用Tensor创建输入,Variable作为可训练参数,简单模拟函数$f(x)=Ax+b$的操作."
   ]
  },
  {
   "cell_type": "code",
   "execution_count": 4,
   "metadata": {},
   "outputs": [
    {
     "name": "stdout",
     "output_type": "stream",
     "text": [
      "tf.Tensor(\n",
      "[[1.]\n",
      " [2.]\n",
      " [3.]], shape=(3, 1), dtype=float32)\n",
      "<tf.Variable 'A:0' shape=(4, 3) dtype=float32, numpy=\n",
      "array([[ 0.71516156, -0.9896023 , -0.40463972],\n",
      "       [ 0.09952044,  0.0820322 , -0.29023957],\n",
      "       [-0.6299825 , -0.5753865 ,  0.3008921 ],\n",
      "       [-0.07673454,  0.17851329,  0.18940139]], dtype=float32)>\n",
      "<tf.Variable 'b:0' shape=(4, 1) dtype=float32, numpy=\n",
      "array([[ 0.89026093],\n",
      "       [-0.15398908],\n",
      "       [-0.2103827 ],\n",
      "       [-0.2951069 ]], dtype=float32)>\n",
      "tf.Tensor(\n",
      "[[-1.5877013 ]\n",
      " [-0.76112294]\n",
      " [-1.0884619 ]\n",
      " [ 0.5533893 ]], shape=(4, 1), dtype=float32)\n"
     ]
    }
   ],
   "source": [
    "x = tf.constant([[1.0], [2.0], [3.0]])\n",
    "A = tf.get_variable('A', [4, 3], dtype=tf.float32,\n",
    "                initializer=tf.random_uniform_initializer(-1.0, 1.0))\n",
    "b = tf.get_variable('b', [4, 1], dtype=tf.float32,\n",
    "                initializer=tf.random_uniform_initializer(-1.0, 1.0))\n",
    "f = tf.matmul(A, x) + b\n",
    "print(x)\n",
    "print(A)\n",
    "print(b)\n",
    "print(f)"
   ]
  },
  {
   "cell_type": "markdown",
   "metadata": {},
   "source": [
    "4. Session(会话):Session(会话)是进行图计算的环境(上下文),有些类似运行程序的沙盒的作用,\n",
    "    其提供图计算需要的资源并保留相关状态,进行模型存储和加载的时候,也是以Session作为保存和加载对象. 这里需要注意的是,之前运行的程序都是在使用`tf.enable_eager_execution()`启动交互模式运行的结果, 现在使用的是使用普通Session运行的结果. 在普通Session模式下, 先构建计算图, 然后初始化必须的参数, 最后使用`Session.run()`方法计算指定计算图中的节点得到结果."
   ]
  },
  {
   "cell_type": "code",
   "execution_count": 5,
   "metadata": {
    "scrolled": false
   },
   "outputs": [
    {
     "name": "stdout",
     "output_type": "stream",
     "text": [
      "Tensor(\"Const:0\", shape=(3, 1), dtype=float32)\n",
      "<tf.Variable 'A:0' shape=(4, 3) dtype=float32>\n",
      "<tf.Variable 'b:0' shape=(4, 1) dtype=float32>\n",
      "Tensor(\"add:0\", shape=(4, 1), dtype=float32)\n",
      "[[1.]\n",
      " [2.]\n",
      " [3.]]\n",
      "[[-0.44130492  0.12559676  0.7421856 ]\n",
      " [ 0.6288309  -0.8435364  -0.8658266 ]\n",
      " [ 0.07993364 -0.52946496  0.89745855]\n",
      " [ 0.33952975 -0.60447335 -0.69467545]]\n",
      "[[ 0.9536092 ]\n",
      " [ 0.39151216]\n",
      " [ 0.07432961]\n",
      " [-0.9359064 ]]\n",
      "[[ 2.9900546]\n",
      " [-3.2642095]\n",
      " [ 1.787709 ]\n",
      " [-3.8893497]]\n"
     ]
    }
   ],
   "source": [
    "with tf.Session() as session:\n",
    "    x = tf.constant([[1.0], [2.0], [3.0]])\n",
    "    A = tf.get_variable('A', [4, 3], dtype=tf.float32,\n",
    "                    initializer=tf.random_uniform_initializer(-1.0, 1.0))\n",
    "    b = tf.get_variable('b', [4, 1], dtype=tf.float32,\n",
    "                    initializer=tf.random_uniform_initializer(-1.0, 1.0))\n",
    "    f = tf.matmul(A, x) + b\n",
    "    print(x)\n",
    "    print(A)\n",
    "    print(b)\n",
    "    print(f)\n",
    "    \n",
    "    session.run(tf.global_variables_initializer())\n",
    "    answer, x_val, A_val, b_val = session.run([f, x, A, b])\n",
    "    print(x_val)\n",
    "    print(A_val)\n",
    "    print(b_val)\n",
    "    print(answer)"
   ]
  }
 ],
 "metadata": {
  "kernelspec": {
   "display_name": "Python 3",
   "language": "python",
   "name": "python3"
  },
  "language_info": {
   "codemirror_mode": {
    "name": "ipython",
    "version": 3
   },
   "file_extension": ".py",
   "mimetype": "text/x-python",
   "name": "python",
   "nbconvert_exporter": "python",
   "pygments_lexer": "ipython3",
   "version": "3.6.8"
  }
 },
 "nbformat": 4,
 "nbformat_minor": 2
}
